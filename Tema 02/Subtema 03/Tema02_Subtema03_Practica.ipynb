{
 "cells": [
  {
   "cell_type": "markdown",
   "id": "defaaffd",
   "metadata": {},
   "source": [
    "# Vectores\n",
    "## Operaciones con Vectores\n",
    "\n",
    "**Asignatura:** Física Universitaria (Mecánica Newtoniana)\n",
    "\n",
    "**Autor:** Esteban Sango | La Academia"
   ]
  },
  {
   "cell_type": "markdown",
   "id": "ade91593",
   "metadata": {},
   "source": [
    "## Ejercicio 01\n",
    "Los tres finalistas de un concurso de TV se colocan en el centro de\n",
    "un campo plano grande. Cada uno cuenta con una regla graduada de un\n",
    "metro de longitud, una brújula, una calculadora, una pala y (en diferente orden para cada concursante) los siguientes desplazamientos:\n",
    "\n",
    "1. $72.4 \\, \\text{m}$, $32.00^\\circ$ al este del norte.\n",
    "2. $57.3 \\, \\text{m}$, $36.00^\\circ$ al sur del oeste.\n",
    "3. $17.8 \\, \\text{m}$ al sur.\n",
    "\n",
    "Los tres desplazamientos llevan al punto donde están enterradas las\n",
    "llaves de un Porsche nuevo. Dos concursantes comienzan a medir de\n",
    "inmediato; sin embargo, la ganadora primero calcula adónde debe ir.\n",
    "¿Qué calculó?"
   ]
  },
  {
   "cell_type": "markdown",
   "id": "6bc7df02",
   "metadata": {},
   "source": [
    "### Solución 01\n",
    "Añadir solución."
   ]
  },
  {
   "cell_type": "code",
   "execution_count": null,
   "id": "e2d1b8ac",
   "metadata": {},
   "outputs": [],
   "source": [
    "# Ingrese su código aquí 👽."
   ]
  },
  {
   "cell_type": "markdown",
   "id": "91fa3983",
   "metadata": {},
   "source": [
    "## Ejercicio 02\n",
    "Un avión despega y viaja 10.4 km al oeste, 8.7 km al norte y 2.1 km\n",
    "hacia arriba. ¿A qué distancia está de su punto de partida?"
   ]
  },
  {
   "cell_type": "markdown",
   "id": "9ab4a9a2",
   "metadata": {},
   "source": [
    "### Solución 02\n",
    "Añadir solución."
   ]
  },
  {
   "cell_type": "code",
   "execution_count": null,
   "id": "0797acbb",
   "metadata": {},
   "outputs": [],
   "source": [
    "# Ingrese su código aquí 👽."
   ]
  },
  {
   "cell_type": "markdown",
   "id": "e224faf8",
   "metadata": {},
   "source": [
    "## Ejercicio XX\n",
    "Añadir enunciado."
   ]
  },
  {
   "cell_type": "markdown",
   "id": "07e1cc21",
   "metadata": {},
   "source": [
    "### Solución XX\n",
    "Añadir solución."
   ]
  },
  {
   "cell_type": "code",
   "execution_count": null,
   "id": "1cac20c7",
   "metadata": {},
   "outputs": [],
   "source": [
    "# Ingrese su código aquí 👽."
   ]
  }
 ],
 "metadata": {
  "language_info": {
   "name": "python"
  }
 },
 "nbformat": 4,
 "nbformat_minor": 5
}
