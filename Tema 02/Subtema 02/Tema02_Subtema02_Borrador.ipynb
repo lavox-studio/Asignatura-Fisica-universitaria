{
 "cells": [
  {
   "cell_type": "markdown",
   "id": "defaaffd",
   "metadata": {},
   "source": [
    "# Vectores\n",
    "## Descomponer un Vector\n",
    "\n",
    "**Asignatura:** Física Universitaria (Mecánica Newtoniana)\n",
    "\n",
    "**Autor:** Esteban Sango | La Academia"
   ]
  },
  {
   "cell_type": "markdown",
   "id": "ade91593",
   "metadata": {},
   "source": [
    "## Ejemplo | Concepto\n",
    "Añadir enunciado o concepto."
   ]
  },
  {
   "cell_type": "code",
   "execution_count": null,
   "id": "e2d1b8ac",
   "metadata": {},
   "outputs": [],
   "source": [
    "# Ingrese su código aquí 👽."
   ]
  }
 ],
 "metadata": {
  "language_info": {
   "name": "python"
  }
 },
 "nbformat": 4,
 "nbformat_minor": 5
}
