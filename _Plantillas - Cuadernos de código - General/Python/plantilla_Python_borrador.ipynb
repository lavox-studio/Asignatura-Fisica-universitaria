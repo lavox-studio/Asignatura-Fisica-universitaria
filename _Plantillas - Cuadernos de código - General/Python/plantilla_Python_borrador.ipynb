{
 "cells": [
  {
   "cell_type": "markdown",
   "id": "defaaffd",
   "metadata": {},
   "source": [
    "# Nombre del tema\n",
    "## Nombre del subtema\n",
    "\n",
    "**Asignatura:** [Añadir asignatura]\n",
    "\n",
    "**Autor:** [Añadir autor] | La Academia"
   ]
  },
  {
   "cell_type": "markdown",
   "id": "ade91593",
   "metadata": {},
   "source": [
    "## Ejemplo | Concepto\n",
    "Añadir enunciado o concepto."
   ]
  },
  {
   "cell_type": "code",
   "execution_count": null,
   "id": "e2d1b8ac",
   "metadata": {},
   "outputs": [],
   "source": [
    "# Ingrese su código aquí 👽."
   ]
  }
 ],
 "metadata": {
  "language_info": {
   "name": "python"
  }
 },
 "nbformat": 4,
 "nbformat_minor": 5
}
