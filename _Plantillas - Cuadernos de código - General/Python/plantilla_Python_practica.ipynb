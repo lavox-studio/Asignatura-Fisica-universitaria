{
 "cells": [
  {
   "cell_type": "markdown",
   "id": "defaaffd",
   "metadata": {},
   "source": [
    "# Nombre del tema\n",
    "## Nombre del subtema\n",
    "\n",
    "**Asignatura:** [Añadir asignatura]\n",
    "\n",
    "**Autor:** [Añadir autor] | La Academia"
   ]
  },
  {
   "cell_type": "markdown",
   "id": "ade91593",
   "metadata": {},
   "source": [
    "## Ejercicio XX\n",
    "Añadir enunciado."
   ]
  },
  {
   "cell_type": "markdown",
   "id": "6bc7df02",
   "metadata": {},
   "source": [
    "### Solución XX\n",
    "Añadir solución."
   ]
  },
  {
   "cell_type": "code",
   "execution_count": null,
   "id": "e2d1b8ac",
   "metadata": {},
   "outputs": [],
   "source": [
    "# Ingrese su código aquí 👽."
   ]
  },
  {
   "cell_type": "markdown",
   "id": "91fa3983",
   "metadata": {},
   "source": [
    "## Ejercicio XX\n",
    "Añadir enunciado."
   ]
  },
  {
   "cell_type": "markdown",
   "id": "9ab4a9a2",
   "metadata": {},
   "source": [
    "### Solución XX\n",
    "Añadir solución."
   ]
  },
  {
   "cell_type": "code",
   "execution_count": null,
   "id": "0797acbb",
   "metadata": {},
   "outputs": [],
   "source": [
    "# Ingrese su código aquí 👽."
   ]
  },
  {
   "cell_type": "markdown",
   "id": "e224faf8",
   "metadata": {},
   "source": [
    "## Ejercicio XX\n",
    "Añadir enunciado."
   ]
  },
  {
   "cell_type": "markdown",
   "id": "07e1cc21",
   "metadata": {},
   "source": [
    "### Solución XX\n",
    "Añadir solución."
   ]
  },
  {
   "cell_type": "code",
   "execution_count": null,
   "id": "1cac20c7",
   "metadata": {},
   "outputs": [],
   "source": [
    "# Ingrese su código aquí 👽."
   ]
  }
 ],
 "metadata": {
  "language_info": {
   "name": "python"
  }
 },
 "nbformat": 4,
 "nbformat_minor": 5
}
